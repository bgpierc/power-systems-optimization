{
 "cells": [
  {
   "cell_type": "code",
   "execution_count": 3,
   "id": "777fbb76-f57a-4a42-b42b-69c93d06ace4",
   "metadata": {
    "tags": []
   },
   "outputs": [
    {
     "data": {
      "text/plain": [
       "A JuMP Model\n",
       "Feasibility problem with:\n",
       "Variables: 0\n",
       "Model mode: AUTOMATIC\n",
       "CachingOptimizer state: EMPTY_OPTIMIZER\n",
       "Solver name: HiGHS"
      ]
     },
     "execution_count": 3,
     "metadata": {},
     "output_type": "execute_result"
    }
   ],
   "source": [
    "using JuMP\n",
    "using HiGHS\n",
    "model = Model(HiGHS.Optimizer)"
   ]
  },
  {
   "cell_type": "code",
   "execution_count": 4,
   "id": "f8c18d80-17c0-4fe0-8b08-394fc2d398b5",
   "metadata": {
    "tags": []
   },
   "outputs": [
    {
     "data": {
      "text/plain": [
       "A JuMP Model\n",
       "Maximization problem with:\n",
       "Variables: 2\n",
       "Objective function type: GenericAffExpr{Float64,VariableRef}\n",
       "`GenericAffExpr{Float64,VariableRef}`-in-`MathOptInterface.LessThan{Float64}`: 2 constraints\n",
       "`VariableRef`-in-`MathOptInterface.GreaterThan{Float64}`: 2 constraints\n",
       "`VariableRef`-in-`MathOptInterface.LessThan{Float64}`: 1 constraint\n",
       "Model mode: AUTOMATIC\n",
       "CachingOptimizer state: EMPTY_OPTIMIZER\n",
       "Solver name: HiGHS\n",
       "Names registered in the model: c1, c2, x, y"
      ]
     },
     "execution_count": 4,
     "metadata": {},
     "output_type": "execute_result"
    }
   ],
   "source": [
    "@variable(model, 8 >= x >=2)\n",
    "@variable(model, y >= 0)\n",
    "@objective(model, Max, 10x + 5y)\n",
    "@constraint(model, c1, 2x + 5y <= 50)\n",
    "@constraint(model, c2, 5x + y <= 30)\n",
    "model"
   ]
  },
  {
   "cell_type": "code",
   "execution_count": 5,
   "id": "57d14947-6b53-4eb6-ad42-efa667c89324",
   "metadata": {
    "tags": []
   },
   "outputs": [
    {
     "name": "stdout",
     "output_type": "stream",
     "text": [
      "\n",
      "Presolving model\n",
      "2 rows, 2 cols, 4 nonzeros\n",
      "2 rows, 2 cols, 4 nonzeros\n",
      "Presolve : Reductions: rows 2(-0); columns 2(-0); elements 4(-0)\n",
      "Solving the presolved LP\n",
      "WARNING: Number of OMP threads available = 0 < 1 = Number of HiGHS threads to be used: Parallel performance will be less than anticipated\n",
      "Using EKK dual simplex solver - serial\n",
      "  Iteration        Objective     Infeasibilities num(sum)\n",
      "          0    -4.9999477690e+00 Ph1: 2(6); Du: 1(4.99995) 0s\n",
      "          2    -8.4782608696e+01 Pr: 0(0) 0s\n",
      "Solving the original LP from the solution after postsolve\n",
      "Model   status      : Optimal\n",
      "Simplex   iterations: 2\n",
      "Objective value     :  8.4782608696e+01\n",
      "HiGHS run time      :          0.00\n"
     ]
    }
   ],
   "source": [
    "optimize!(model)"
   ]
  },
  {
   "cell_type": "code",
   "execution_count": 18,
   "id": "f57d1172-b45c-49e8-8aa6-212a241a0a2d",
   "metadata": {
    "tags": []
   },
   "outputs": [
    {
     "name": "stdout",
     "output_type": "stream",
     "text": [
      "WARNING: Method Highs_getSimplexIterationCount is deprecated: alternative method is Highs_getIntInfoValue\n"
     ]
    },
    {
     "data": {
      "text/plain": [
       "* Solver : HiGHS\n",
       "\n",
       "* Status\n",
       "  Termination status : OPTIMAL\n",
       "  Primal status      : FEASIBLE_POINT\n",
       "  Dual status        : FEASIBLE_POINT\n",
       "  Result count       : 1\n",
       "  Has duals          : true\n",
       "  Message from the solver:\n",
       "  \"kOptimal\"\n",
       "\n",
       "* Candidate solution\n",
       "  Objective value      : 84.78260869565219\n",
       "  Objective bound      : 84.78260869565219\n",
       "  Dual objective value : 84.78260869565219\n",
       "  Primal solution :\n",
       "    x : 4.347826086956522\n",
       "    y : 8.26086956521739\n",
       "  Dual solution :\n",
       "    c1 : -0.6521739130434783\n",
       "    c2 : -1.7391304347826089\n",
       "\n",
       "* Work counters\n",
       "  Solve time (sec)   : 0.00495\n"
      ]
     },
     "execution_count": 18,
     "metadata": {},
     "output_type": "execute_result"
    }
   ],
   "source": [
    "solution_summary(model; verbose = true)"
   ]
  },
  {
   "cell_type": "code",
   "execution_count": 26,
   "id": "3120f725-5f76-489b-9a16-f181c1b5bd03",
   "metadata": {
    "tags": []
   },
   "outputs": [
    {
     "data": {
      "text/plain": [
       "2-element Array{ConstraintRef,1}:\n",
       " c1 : 2 x + 5 y ≤ 50.0\n",
       " c2 : 5 x + y ≤ 30.0"
      ]
     },
     "execution_count": 26,
     "metadata": {},
     "output_type": "execute_result"
    }
   ],
   "source": [
    "function binding_constraints(model, threshold=1e-8)\n",
    "    binding_cons = ConstraintRef[]\n",
    "    for (F, S) in list_of_constraint_types(model)  \n",
    "        for con in all_constraints(model, F, S)\n",
    "            if abs(dual(con)) > threshold || continue\n",
    "                push!(binding_cons, con)\n",
    "            end\n",
    "        end\n",
    "    end\n",
    "    return binding_cons\n",
    "end\n",
    "\n",
    "binding_constraints(model)"
   ]
  },
  {
   "cell_type": "code",
   "execution_count": 11,
   "id": "a2af4ead-18a4-44e4-952b-eec5be52a697",
   "metadata": {
    "tags": []
   },
   "outputs": [
    {
     "name": "stdout",
     "output_type": "stream",
     "text": [
      "Objective 84.78260869565219\n",
      "Value of x: 4.347826086956522\n",
      "Value of y: 8.26086956521739"
     ]
    }
   ],
   "source": [
    "obj = objective_value(model)\n",
    "val_x = value(x)\n",
    "val_y = value(y)\n",
    "print(\"Objective $obj\\nValue of x: $val_x\\nValue of y: $val_y\")"
   ]
  },
  {
   "cell_type": "code",
   "execution_count": 12,
   "id": "16e65594-6a34-4db3-868a-9fcc1ba25bc3",
   "metadata": {
    "tags": []
   },
   "outputs": [
    {
     "data": {
      "text/latex": [
       "$$ \\begin{aligned}\n",
       "\\max\\quad & 10 x + 5 y\\\\\n",
       "\\text{Subject to} \\quad & 2 x + 5 y \\leq 50.0\\\\\n",
       " & 5 x + y \\leq 30.0\\\\\n",
       " & x \\geq 2.0\\\\\n",
       " & y \\geq 0.0\\\\\n",
       " & x \\leq 8.0\\\\\n",
       "\\end{aligned} $$"
      ]
     },
     "metadata": {},
     "output_type": "display_data"
    }
   ],
   "source": [
    "print(model)"
   ]
  }
 ],
 "metadata": {
  "kernelspec": {
   "display_name": "Julia 1.5.3",
   "language": "julia",
   "name": "julia-1.5"
  },
  "language_info": {
   "file_extension": ".jl",
   "mimetype": "application/julia",
   "name": "julia",
   "version": "1.5.3"
  }
 },
 "nbformat": 4,
 "nbformat_minor": 5
}
