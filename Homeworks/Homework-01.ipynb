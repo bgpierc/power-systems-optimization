{
 "cells": [
  {
   "cell_type": "markdown",
   "metadata": {},
   "source": [
    "# Homework 1"
   ]
  },
  {
   "cell_type": "markdown",
   "metadata": {},
   "source": [
    "_**[Power Systems Optimization](https://github.com/east-winds/power-systems-optimization)**_\n",
    "\n",
    "_by Jesse D. Jenkins and Michael R. Davidson (last updated: September 14, 2022)_\n",
    "\n",
    "This Notebook will walk you through defining a simple transport flow model and then ask you to interact with the solutions and modify to model to add additional constraints..."
   ]
  },
  {
   "cell_type": "markdown",
   "metadata": {},
   "source": [
    "## Setting up the model"
   ]
  },
  {
   "cell_type": "markdown",
   "metadata": {},
   "source": [
    "### Load packages"
   ]
  },
  {
   "cell_type": "code",
   "execution_count": 1,
   "metadata": {
    "tags": []
   },
   "outputs": [],
   "source": [
    "using JuMP\n",
    "using HiGHS\n",
    "using DataFrames\n",
    "using CSV"
   ]
  },
  {
   "cell_type": "markdown",
   "metadata": {},
   "source": [
    "### Define sets"
   ]
  },
  {
   "cell_type": "markdown",
   "metadata": {},
   "source": [
    "We will define two sets, both as arrays of strings"
   ]
  },
  {
   "cell_type": "markdown",
   "metadata": {},
   "source": [
    "***Production plants, $P$***"
   ]
  },
  {
   "cell_type": "code",
   "execution_count": 2,
   "metadata": {
    "tags": []
   },
   "outputs": [
    {
     "data": {
      "text/plain": [
       "2-element Array{String,1}:\n",
       " \"trenton\"\n",
       " \"newark\""
      ]
     },
     "execution_count": 2,
     "metadata": {},
     "output_type": "execute_result"
    }
   ],
   "source": [
    "P=[\"trenton\", \"newark\"] # production plants"
   ]
  },
  {
   "cell_type": "markdown",
   "metadata": {},
   "source": [
    "***Markets for products, $M$***"
   ]
  },
  {
   "cell_type": "code",
   "execution_count": 3,
   "metadata": {
    "tags": []
   },
   "outputs": [
    {
     "data": {
      "text/plain": [
       "3-element Array{String,1}:\n",
       " \"newyork\"\n",
       " \"princeton\"\n",
       " \"philadelphia\""
      ]
     },
     "execution_count": 3,
     "metadata": {},
     "output_type": "execute_result"
    }
   ],
   "source": [
    "M=[\"newyork\", \"princeton\", \"philadelphia\"] # markets for products"
   ]
  },
  {
   "cell_type": "markdown",
   "metadata": {},
   "source": [
    "Note that sets can also be defined over intervals (as in `i=1:10`) or numerical vectors (as in `x=[2, 4, 5, 11]`) "
   ]
  },
  {
   "cell_type": "markdown",
   "metadata": {},
   "source": [
    "### Define parameters"
   ]
  },
  {
   "cell_type": "markdown",
   "metadata": {},
   "source": [
    "We'll make use of the defined sets as indexes for our parameters...\n",
    "\n",
    "***Plant production capacities***"
   ]
  },
  {
   "cell_type": "code",
   "execution_count": 4,
   "metadata": {
    "tags": []
   },
   "outputs": [
    {
     "data": {
      "text/html": [
       "<div class=\"data-frame\"><p>2 rows × 2 columns</p><table class=\"data-frame\"><thead><tr><th></th><th>plant</th><th>capacity</th></tr><tr><th></th><th title=\"String\">String</th><th title=\"Int64\">Int64</th></tr></thead><tbody><tr><th>1</th><td>trenton</td><td>350</td></tr><tr><th>2</th><td>newark</td><td>650</td></tr></tbody></table></div>"
      ],
      "text/latex": [
       "\\begin{tabular}{r|cc}\n",
       "\t& plant & capacity\\\\\n",
       "\t\\hline\n",
       "\t& String & Int64\\\\\n",
       "\t\\hline\n",
       "\t1 & trenton & 350 \\\\\n",
       "\t2 & newark & 650 \\\\\n",
       "\\end{tabular}\n"
      ],
      "text/plain": [
       "\u001b[1m2×2 DataFrame\u001b[0m\n",
       "\u001b[1m Row \u001b[0m│\u001b[1m plant   \u001b[0m\u001b[1m capacity \u001b[0m\n",
       "\u001b[1m     \u001b[0m│\u001b[90m String  \u001b[0m\u001b[90m Int64    \u001b[0m\n",
       "─────┼───────────────────\n",
       "   1 │ trenton       350\n",
       "   2 │ newark        650"
      ]
     },
     "execution_count": 4,
     "metadata": {},
     "output_type": "execute_result"
    }
   ],
   "source": [
    "plants = DataFrame(plant=P, capacity=[350,650])"
   ]
  },
  {
   "cell_type": "markdown",
   "metadata": {},
   "source": [
    "***Demand for products***\n",
    "\n",
    "Stored in a [DataFrame](https://juliadata.github.io/DataFrames.jl/stable/)"
   ]
  },
  {
   "cell_type": "code",
   "execution_count": 5,
   "metadata": {
    "tags": []
   },
   "outputs": [
    {
     "data": {
      "text/html": [
       "<div class=\"data-frame\"><p>3 rows × 2 columns</p><table class=\"data-frame\"><thead><tr><th></th><th>market</th><th>demand</th></tr><tr><th></th><th title=\"String\">String</th><th title=\"Int64\">Int64</th></tr></thead><tbody><tr><th>1</th><td>newyork</td><td>325</td></tr><tr><th>2</th><td>princeton</td><td>300</td></tr><tr><th>3</th><td>philadelphia</td><td>275</td></tr></tbody></table></div>"
      ],
      "text/latex": [
       "\\begin{tabular}{r|cc}\n",
       "\t& market & demand\\\\\n",
       "\t\\hline\n",
       "\t& String & Int64\\\\\n",
       "\t\\hline\n",
       "\t1 & newyork & 325 \\\\\n",
       "\t2 & princeton & 300 \\\\\n",
       "\t3 & philadelphia & 275 \\\\\n",
       "\\end{tabular}\n"
      ],
      "text/plain": [
       "\u001b[1m3×2 DataFrame\u001b[0m\n",
       "\u001b[1m Row \u001b[0m│\u001b[1m market       \u001b[0m\u001b[1m demand \u001b[0m\n",
       "\u001b[1m     \u001b[0m│\u001b[90m String       \u001b[0m\u001b[90m Int64  \u001b[0m\n",
       "─────┼──────────────────────\n",
       "   1 │ newyork          325\n",
       "   2 │ princeton        300\n",
       "   3 │ philadelphia     275"
      ]
     },
     "execution_count": 5,
     "metadata": {},
     "output_type": "execute_result"
    }
   ],
   "source": [
    "markets = DataFrame(\n",
    "    market=M, \n",
    "    demand=[325, 300, 275]\n",
    ")"
   ]
  },
  {
   "cell_type": "markdown",
   "metadata": {},
   "source": [
    "A few different ways to index into our DataFrames to access parameters (all of the below are equivalent)"
   ]
  },
  {
   "cell_type": "code",
   "execution_count": 6,
   "metadata": {
    "tags": []
   },
   "outputs": [
    {
     "data": {
      "text/plain": [
       "1-element Array{Int64,1}:\n",
       " 650"
      ]
     },
     "execution_count": 6,
     "metadata": {},
     "output_type": "execute_result"
    }
   ],
   "source": [
    "plants[plants.plant.==\"newark\",:capacity] # option 1"
   ]
  },
  {
   "cell_type": "code",
   "execution_count": 7,
   "metadata": {
    "tags": []
   },
   "outputs": [
    {
     "data": {
      "text/plain": [
       "1-element Array{Int64,1}:\n",
       " 650"
      ]
     },
     "execution_count": 7,
     "metadata": {},
     "output_type": "execute_result"
    }
   ],
   "source": [
    "plants[plants.plant.==\"newark\",:].capacity # option 2"
   ]
  },
  {
   "cell_type": "code",
   "execution_count": 8,
   "metadata": {
    "tags": []
   },
   "outputs": [
    {
     "data": {
      "text/plain": [
       "1-element Array{Int64,1}:\n",
       " 650"
      ]
     },
     "execution_count": 8,
     "metadata": {},
     "output_type": "execute_result"
    }
   ],
   "source": [
    "plants.capacity[plants.plant.==\"newark\"] # option 3"
   ]
  },
  {
   "cell_type": "code",
   "execution_count": 9,
   "metadata": {
    "tags": []
   },
   "outputs": [
    {
     "data": {
      "text/plain": [
       "1-element Array{Int64,1}:\n",
       " 650"
      ]
     },
     "execution_count": 9,
     "metadata": {},
     "output_type": "execute_result"
    }
   ],
   "source": [
    "plants[:,:capacity][plants.plant.==\"newark\"] # option 4"
   ]
  },
  {
   "cell_type": "markdown",
   "metadata": {},
   "source": [
    "Note that DataFrame indexing returns an Array by default, in this case, a 1-element Array of type Int64 (64-bit integer), as indicated by `Array{Int64,1}` above. \n",
    "\n",
    "To access the single Int64 value, append `[1]` to any of the above to reference the first (and only) element in this array. "
   ]
  },
  {
   "cell_type": "code",
   "execution_count": 10,
   "metadata": {
    "tags": []
   },
   "outputs": [
    {
     "data": {
      "text/plain": [
       "650"
      ]
     },
     "execution_count": 10,
     "metadata": {},
     "output_type": "execute_result"
    }
   ],
   "source": [
    "plants.capacity[plants.plant.==\"newark\"][1]"
   ]
  },
  {
   "cell_type": "code",
   "execution_count": 11,
   "metadata": {
    "tags": []
   },
   "outputs": [
    {
     "data": {
      "text/plain": [
       "Int64"
      ]
     },
     "execution_count": 11,
     "metadata": {},
     "output_type": "execute_result"
    }
   ],
   "source": [
    "typeof(plants.capacity[plants.plant.==\"newark\"][1])"
   ]
  },
  {
   "cell_type": "code",
   "execution_count": 12,
   "metadata": {
    "tags": []
   },
   "outputs": [
    {
     "data": {
      "text/plain": [
       "Array{Int64,1}"
      ]
     },
     "execution_count": 12,
     "metadata": {},
     "output_type": "execute_result"
    }
   ],
   "source": [
    "typeof(plants.capacity[plants.plant.==\"newark\"])"
   ]
  },
  {
   "cell_type": "markdown",
   "metadata": {},
   "source": [
    "***Distance from plants to markets***\n",
    "\n",
    "Stored in a JuMP [DenseAxisArray](https://jump.dev/JuMP.jl/v0.19/containers/) with data array and symbolic references across each of our sets (plants and markets), converted to Symbols for referencing"
   ]
  },
  {
   "cell_type": "code",
   "execution_count": 13,
   "metadata": {
    "tags": []
   },
   "outputs": [
    {
     "data": {
      "text/plain": [
       "2-dimensional DenseAxisArray{Float64,2,...} with index sets:\n",
       "    Dimension 1, [:trenton, :newark]\n",
       "    Dimension 2, [:newyork, :princeton, :philadelphia]\n",
       "And data, a 2×3 Array{Float64,2}:\n",
       " 2.5  0.5  1.5\n",
       " 0.5  1.5  3.5"
      ]
     },
     "execution_count": 13,
     "metadata": {},
     "output_type": "execute_result"
    }
   ],
   "source": [
    "# two dimensional symbolic DenseAxisArray, with from/to distance pairs\n",
    "distances = JuMP.Containers.DenseAxisArray(\n",
    "    [2.5 0.5 1.5;\n",
    "     0.5 1.5 3.5],\n",
    "    Symbol.(P),\n",
    "    Symbol.(M),\n",
    ")"
   ]
  },
  {
   "cell_type": "markdown",
   "metadata": {},
   "source": [
    "A couple example references to our DenseAxisArray to access parameters..."
   ]
  },
  {
   "cell_type": "code",
   "execution_count": 14,
   "metadata": {
    "tags": []
   },
   "outputs": [
    {
     "data": {
      "text/plain": [
       "2.5"
      ]
     },
     "execution_count": 14,
     "metadata": {},
     "output_type": "execute_result"
    }
   ],
   "source": [
    "distances[:trenton, :newyork] #example of distance references"
   ]
  },
  {
   "cell_type": "code",
   "execution_count": 15,
   "metadata": {
    "tags": []
   },
   "outputs": [
    {
     "data": {
      "text/plain": [
       "0.5"
      ]
     },
     "execution_count": 15,
     "metadata": {},
     "output_type": "execute_result"
    }
   ],
   "source": [
    "distances[:newark, :newyork] #example of distance references"
   ]
  },
  {
   "cell_type": "code",
   "execution_count": 16,
   "metadata": {
    "tags": []
   },
   "outputs": [
    {
     "data": {
      "text/plain": [
       "0.5"
      ]
     },
     "execution_count": 16,
     "metadata": {},
     "output_type": "execute_result"
    }
   ],
   "source": [
    "distances[Symbol(P[2]),Symbol(M[1])] # another way to find distance from newark to trenton"
   ]
  },
  {
   "cell_type": "code",
   "execution_count": 17,
   "metadata": {
    "tags": []
   },
   "outputs": [
    {
     "data": {
      "text/plain": [
       "0.5"
      ]
     },
     "execution_count": 17,
     "metadata": {},
     "output_type": "execute_result"
    }
   ],
   "source": [
    "distances[Symbol(\"newark\"), Symbol(\"newyork\")] # and a third..."
   ]
  },
  {
   "cell_type": "markdown",
   "metadata": {},
   "source": [
    "***Costs of transport***"
   ]
  },
  {
   "cell_type": "code",
   "execution_count": 18,
   "metadata": {
    "tags": []
   },
   "outputs": [
    {
     "data": {
      "text/plain": [
       "90"
      ]
     },
     "execution_count": 18,
     "metadata": {},
     "output_type": "execute_result"
    }
   ],
   "source": [
    "freight_cost = 90 # Cost of freight shipment per unit of distance"
   ]
  },
  {
   "cell_type": "markdown",
   "metadata": {},
   "source": [
    "### Create model\n",
    "(and specify the HiGHS solver)"
   ]
  },
  {
   "cell_type": "code",
   "execution_count": 19,
   "metadata": {
    "tags": []
   },
   "outputs": [],
   "source": [
    "transport = Model(HiGHS.Optimizer);"
   ]
  },
  {
   "cell_type": "markdown",
   "metadata": {},
   "source": [
    "### Define variables"
   ]
  },
  {
   "cell_type": "markdown",
   "metadata": {},
   "source": [
    "***Quantities of product to transport from plant $p \\in P$ to market $m \\in M$***"
   ]
  },
  {
   "cell_type": "code",
   "execution_count": 20,
   "metadata": {
    "tags": []
   },
   "outputs": [
    {
     "data": {
      "text/plain": [
       "2-dimensional DenseAxisArray{VariableRef,2,...} with index sets:\n",
       "    Dimension 1, [\"trenton\", \"newark\"]\n",
       "    Dimension 2, [\"newyork\", \"princeton\", \"philadelphia\"]\n",
       "And data, a 2×3 Array{VariableRef,2}:\n",
       " X[trenton,newyork]  X[trenton,princeton]  X[trenton,philadelphia]\n",
       " X[newark,newyork]   X[newark,princeton]   X[newark,philadelphia]"
      ]
     },
     "execution_count": 20,
     "metadata": {},
     "output_type": "execute_result"
    }
   ],
   "source": [
    "@variable(transport, X[P,M] >= 0)"
   ]
  },
  {
   "cell_type": "markdown",
   "metadata": {},
   "source": [
    "Example reference to single quantity decision variable, the quantity shipped from Newark to Philadelphia:"
   ]
  },
  {
   "cell_type": "code",
   "execution_count": 21,
   "metadata": {
    "tags": []
   },
   "outputs": [
    {
     "data": {
      "text/latex": [
       "$$ X_{newark,philadelphia} $$"
      ],
      "text/plain": [
       "X[newark,philadelphia]"
      ]
     },
     "execution_count": 21,
     "metadata": {},
     "output_type": "execute_result"
    }
   ],
   "source": [
    "X[\"newark\",\"philadelphia\"]"
   ]
  },
  {
   "cell_type": "markdown",
   "metadata": {},
   "source": [
    "### Define constraints"
   ]
  },
  {
   "cell_type": "markdown",
   "metadata": {},
   "source": [
    "***Supply capacity constraint***"
   ]
  },
  {
   "cell_type": "code",
   "execution_count": 22,
   "metadata": {
    "tags": []
   },
   "outputs": [
    {
     "data": {
      "text/plain": [
       "1-dimensional DenseAxisArray{ConstraintRef{Model,MathOptInterface.ConstraintIndex{MathOptInterface.ScalarAffineFunction{Float64},MathOptInterface.LessThan{Float64}},ScalarShape},1,...} with index sets:\n",
       "    Dimension 1, [\"trenton\", \"newark\"]\n",
       "And data, a 2-element Array{ConstraintRef{Model,MathOptInterface.ConstraintIndex{MathOptInterface.ScalarAffineFunction{Float64},MathOptInterface.LessThan{Float64}},ScalarShape},1}:\n",
       " cSupply[trenton] : X[trenton,newyork] + X[trenton,princeton] + X[trenton,philadelphia] ≤ 350.0\n",
       " cSupply[newark] : X[newark,newyork] + X[newark,princeton] + X[newark,philadelphia] ≤ 650.0"
      ]
     },
     "execution_count": 22,
     "metadata": {},
     "output_type": "execute_result"
    }
   ],
   "source": [
    "@constraint(transport, cSupply[p in P], \n",
    "    sum(X[p,m] for m in M) \n",
    "    <= plants.capacity[plants.plant.==p][1])"
   ]
  },
  {
   "cell_type": "markdown",
   "metadata": {},
   "source": [
    "***Demand balance constraint***\n",
    "\n",
    "Ensure all demand is satisfied at each market"
   ]
  },
  {
   "cell_type": "code",
   "execution_count": 23,
   "metadata": {
    "tags": []
   },
   "outputs": [
    {
     "data": {
      "text/plain": [
       "1-dimensional DenseAxisArray{ConstraintRef{Model,MathOptInterface.ConstraintIndex{MathOptInterface.ScalarAffineFunction{Float64},MathOptInterface.GreaterThan{Float64}},ScalarShape},1,...} with index sets:\n",
       "    Dimension 1, [\"newyork\", \"princeton\", \"philadelphia\"]\n",
       "And data, a 3-element Array{ConstraintRef{Model,MathOptInterface.ConstraintIndex{MathOptInterface.ScalarAffineFunction{Float64},MathOptInterface.GreaterThan{Float64}},ScalarShape},1}:\n",
       " cDemand[newyork] : X[trenton,newyork] + X[newark,newyork] ≥ 325.0\n",
       " cDemand[princeton] : X[trenton,princeton] + X[newark,princeton] ≥ 300.0\n",
       " cDemand[philadelphia] : X[trenton,philadelphia] + X[newark,philadelphia] ≥ 275.0"
      ]
     },
     "execution_count": 23,
     "metadata": {},
     "output_type": "execute_result"
    }
   ],
   "source": [
    "@constraint(transport, cDemand[m in M], \n",
    "    sum(X[p,m] for p in P) \n",
    "    >= markets.demand[markets.market.==m][1])"
   ]
  },
  {
   "cell_type": "markdown",
   "metadata": {},
   "source": [
    "### Define objective function\n",
    "\n",
    "Minimize total cost of transport to satisfy all demand.\n",
    "\n",
    "First we'll define an expression for total cost of shipments..."
   ]
  },
  {
   "cell_type": "code",
   "execution_count": 24,
   "metadata": {
    "tags": []
   },
   "outputs": [
    {
     "data": {
      "text/latex": [
       "$$ 225 X_{trenton,newyork} + 45 X_{trenton,princeton} + 135 X_{trenton,philadelphia} + 45 X_{newark,newyork} + 135 X_{newark,princeton} + 315 X_{newark,philadelphia} $$"
      ],
      "text/plain": [
       "225 X[trenton,newyork] + 45 X[trenton,princeton] + 135 X[trenton,philadelphia] + 45 X[newark,newyork] + 135 X[newark,princeton] + 315 X[newark,philadelphia]"
      ]
     },
     "execution_count": 24,
     "metadata": {},
     "output_type": "execute_result"
    }
   ],
   "source": [
    "@expression(transport, eCost, \n",
    "    sum(freight_cost*distances[Symbol(p),Symbol(m)]*X[p,m] \n",
    "        for p in P, m in M)\n",
    "    )"
   ]
  },
  {
   "cell_type": "markdown",
   "metadata": {},
   "source": [
    "Now we'll minimize this total cost"
   ]
  },
  {
   "cell_type": "code",
   "execution_count": 25,
   "metadata": {
    "tags": []
   },
   "outputs": [
    {
     "data": {
      "text/latex": [
       "$$ 225 X_{trenton,newyork} + 45 X_{trenton,princeton} + 135 X_{trenton,philadelphia} + 45 X_{newark,newyork} + 135 X_{newark,princeton} + 315 X_{newark,philadelphia} $$"
      ],
      "text/plain": [
       "225 X[trenton,newyork] + 45 X[trenton,princeton] + 135 X[trenton,philadelphia] + 45 X[newark,newyork] + 135 X[newark,princeton] + 315 X[newark,philadelphia]"
      ]
     },
     "execution_count": 25,
     "metadata": {},
     "output_type": "execute_result"
    }
   ],
   "source": [
    "@objective(transport, Min, eCost)"
   ]
  },
  {
   "cell_type": "markdown",
   "metadata": {},
   "source": [
    "## Interact with the model"
   ]
  },
  {
   "cell_type": "markdown",
   "metadata": {},
   "source": [
    "**(a)** Now let's solve the model. In the blank cell below, enter the command for JuMP to solve a model and run the cell"
   ]
  },
  {
   "cell_type": "code",
   "execution_count": 26,
   "metadata": {
    "tags": []
   },
   "outputs": [
    {
     "name": "stdout",
     "output_type": "stream",
     "text": [
      "\n",
      "Presolving model\n",
      "5 rows, 6 cols, 12 nonzeros\n",
      "5 rows, 6 cols, 12 nonzeros\n",
      "Presolve : Reductions: rows 5(-0); columns 6(-0); elements 12(-0)\n",
      "Solving the presolved LP\n",
      "WARNING: Number of OMP threads available = 0 < 1 = Number of HiGHS threads to be used: Parallel performance will be less than anticipated\n",
      "Using EKK dual simplex solver - serial\n",
      "LP  has all |entries|=1; max column count = 2 (limit 24); average column count = 2 (limit 6): So is a candidate for LiDSE\n",
      "  Iteration        Objective     Infeasibilities num(sum)\n",
      "          0     0.0000000000e+00 Pr: 3(900) 0s\n",
      "          4     8.5500000000e+04 Pr: 0(0) 0s\n",
      "Solving the original LP from the solution after postsolve\n",
      "Model   status      : Optimal\n",
      "Simplex   iterations: 4\n",
      "Objective value     :  8.5500000000e+04\n",
      "HiGHS run time      :          0.01\n"
     ]
    }
   ],
   "source": [
    "optimize!(transport)"
   ]
  },
  {
   "cell_type": "markdown",
   "metadata": {},
   "source": [
    "**(b)** You've got a solution. Now query the objective function in the empty cell below and save it to a variable (name of your choice)"
   ]
  },
  {
   "cell_type": "code",
   "execution_count": 27,
   "metadata": {
    "tags": []
   },
   "outputs": [
    {
     "data": {
      "text/plain": [
       "85500.0"
      ]
     },
     "execution_count": 27,
     "metadata": {},
     "output_type": "execute_result"
    }
   ],
   "source": [
    "value(eCost)"
   ]
  },
  {
   "cell_type": "markdown",
   "metadata": {},
   "source": [
    "**(c)** Now query and save the optimal solution for X (the decisions about shipment quantities from plant to market) to an Array or DataFrame"
   ]
  },
  {
   "cell_type": "code",
   "execution_count": 28,
   "metadata": {
    "tags": []
   },
   "outputs": [
    {
     "data": {
      "text/plain": [
       "2-dimensional DenseAxisArray{Float64,2,...} with index sets:\n",
       "    Dimension 1, [\"trenton\", \"newark\"]\n",
       "    Dimension 2, [\"newyork\", \"princeton\", \"philadelphia\"]\n",
       "And data, a 2×3 Array{Float64,2}:\n",
       "   0.0   75.0  275.0\n",
       " 325.0  225.0    0.0"
      ]
     },
     "execution_count": 28,
     "metadata": {},
     "output_type": "execute_result"
    }
   ],
   "source": [
    "value.(X)"
   ]
  },
  {
   "cell_type": "markdown",
   "metadata": {},
   "source": [
    "**(d)** Please interpret your results by writing an explanation in the markdown cell below. \n",
    "\n",
    "Which facility or facilities supplies the most demand in New York? Does this result make sense? Why?\n",
    "\n",
    "Which facility or facilities supplies the most demand in Philadelphia? Does this result make sense? Why?\n",
    "\n",
    "Which facility or facilities supplies the demand in Princeton? Does this result make sense? Why?"
   ]
  },
  {
   "cell_type": "markdown",
   "metadata": {},
   "source": [
    "- The Newark facility supplies all the demand for NY. This is sensible as the Newark plant is much larger then the Trenton plant, and located physically closer to NYC then Trenton.\n",
    "- For Princeton, Newark supplies more power, but Trenton also contributes a sizeable amount, as Trenton is much closer.\n",
    "- For Philly, Trenton supplies all of the demand, as it's physically the closest.\n",
    "\n",
    "In context of all three, there results make a lot of sense. Newark supplies the most demand in NYC, as it's closest, and sends the extra to Princeton. Trenton picks up the rest of Princeton and then all of Philidelphia. "
   ]
  },
  {
   "cell_type": "markdown",
   "metadata": {},
   "source": [
    "**(e)** A new market in New Brunswick appears, with a demand for 50 units. It is located 1.0 units away from both plants. Add this market to the model and solve again."
   ]
  },
  {
   "cell_type": "code",
   "execution_count": 29,
   "metadata": {
    "tags": []
   },
   "outputs": [
    {
     "data": {
      "text/plain": [
       "2-dimensional DenseAxisArray{Float64,2,...} with index sets:\n",
       "    Dimension 1, [:trenton, :newark]\n",
       "    Dimension 2, [:newyork, :princeton, :philadelphia, :newbrunswick]\n",
       "And data, a 2×4 Array{Float64,2}:\n",
       " 2.5  0.5  1.5  1.0\n",
       " 0.5  1.5  3.5  1.0"
      ]
     },
     "execution_count": 29,
     "metadata": {},
     "output_type": "execute_result"
    }
   ],
   "source": [
    "M=[\"newyork\", \"princeton\", \"philadelphia\", \"newbrunswick\"] # markets for products\n",
    "markets = DataFrame(\n",
    "    market=M, \n",
    "    demand=[325, 300, 275, 50]\n",
    ")\n",
    "# two dimensional symbolic DenseAxisArray, with from/to distance pairs\n",
    "distances = JuMP.Containers.DenseAxisArray(\n",
    "    [2.5 0.5 1.5 1.0;\n",
    "     0.5 1.5 3.5 1.0],\n",
    "    Symbol.(P),\n",
    "    Symbol.(M),\n",
    ")"
   ]
  },
  {
   "cell_type": "code",
   "execution_count": 32,
   "metadata": {
    "tags": []
   },
   "outputs": [
    {
     "data": {
      "text/latex": [
       "$$ 225 X_{trenton,newyork} + 45 X_{trenton,princeton} + 135 X_{trenton,philadelphia} + 90 X_{trenton,newbrunswick} + 45 X_{newark,newyork} + 135 X_{newark,princeton} + 315 X_{newark,philadelphia} + 90 X_{newark,newbrunswick} $$"
      ],
      "text/plain": [
       "225 X[trenton,newyork] + 45 X[trenton,princeton] + 135 X[trenton,philadelphia] + 90 X[trenton,newbrunswick] + 45 X[newark,newyork] + 135 X[newark,princeton] + 315 X[newark,philadelphia] + 90 X[newark,newbrunswick]"
      ]
     },
     "execution_count": 32,
     "metadata": {},
     "output_type": "execute_result"
    }
   ],
   "source": [
    "transport = Model(HiGHS.Optimizer);\n",
    "@variable(transport, X[P,M] >= 0)\n",
    "@constraint(transport, cSupply[p in P], \n",
    "    sum(X[p,m] for m in M) \n",
    "    <= plants.capacity[plants.plant.==p][1])\n",
    "@constraint(transport, cDemand[m in M], \n",
    "    sum(X[p,m] for p in P) \n",
    "    >= markets.demand[markets.market.==m][1])\n",
    "@expression(transport, eCost, \n",
    "    sum(freight_cost*distances[Symbol(p),Symbol(m)]*X[p,m] \n",
    "        for p in P, m in M)\n",
    "    )\n",
    "@objective(transport, Min, eCost)"
   ]
  },
  {
   "cell_type": "code",
   "execution_count": 33,
   "metadata": {
    "tags": []
   },
   "outputs": [
    {
     "name": "stdout",
     "output_type": "stream",
     "text": [
      "\n",
      "Presolving model\n",
      "6 rows, 8 cols, 16 nonzeros\n",
      "6 rows, 8 cols, 16 nonzeros\n",
      "Presolve : Reductions: rows 6(-0); columns 8(-0); elements 16(-0)\n",
      "Solving the presolved LP\n",
      "WARNING: Number of OMP threads available = 0 < 1 = Number of HiGHS threads to be used: Parallel performance will be less than anticipated\n",
      "Using EKK dual simplex solver - serial\n",
      "LP  has all |entries|=1; max column count = 2 (limit 24); average column count = 2 (limit 6): So is a candidate for LiDSE\n",
      "  Iteration        Objective     Infeasibilities num(sum)\n",
      "          0     0.0000000000e+00 Pr: 4(950) 0s\n",
      "          5     9.0000000000e+04 Pr: 0(0) 0s\n",
      "Solving the original LP from the solution after postsolve\n",
      "Model   status      : Optimal\n",
      "Simplex   iterations: 5\n",
      "Objective value     :  9.0000000000e+04\n",
      "HiGHS run time      :          0.01\n"
     ]
    }
   ],
   "source": [
    "optimize!(transport)"
   ]
  },
  {
   "cell_type": "markdown",
   "metadata": {},
   "source": [
    "**(f)** What is new optimal solution? "
   ]
  },
  {
   "cell_type": "code",
   "execution_count": 34,
   "metadata": {
    "tags": []
   },
   "outputs": [
    {
     "data": {
      "text/plain": [
       "2-dimensional DenseAxisArray{Float64,2,...} with index sets:\n",
       "    Dimension 1, [\"trenton\", \"newark\"]\n",
       "    Dimension 2, [\"newyork\", \"princeton\", \"philadelphia\", \"newbrunswick\"]\n",
       "And data, a 2×4 Array{Float64,2}:\n",
       "   0.0   75.0  275.0   0.0\n",
       " 325.0  225.0    0.0  50.0"
      ]
     },
     "execution_count": 34,
     "metadata": {},
     "output_type": "execute_result"
    }
   ],
   "source": [
    "value.(X)"
   ]
  },
  {
   "cell_type": "markdown",
   "metadata": {},
   "source": [
    "**(g)** Interpret this result in the markdown cell below. Which facility or facilities supplies the demand in New Brunswick? Does this result make sense? Why?"
   ]
  },
  {
   "cell_type": "markdown",
   "metadata": {},
   "source": [
    "- Newark picks up the slack, as it was not running at capacity to start with before adding New Brunswick, unlike Trenton. \n",
    "- Given that New Brunswick is eqidistant, the model simply tacks on the extra demand to Newark. \n",
    "\n",
    "\n",
    "What happens if this is not the case?\n",
    "\n",
    "Suppose the distance to Newark is now 5 times higher:"
   ]
  },
  {
   "cell_type": "code",
   "execution_count": 36,
   "metadata": {
    "tags": []
   },
   "outputs": [
    {
     "name": "stdout",
     "output_type": "stream",
     "text": [
      "\n",
      "Presolving model\n",
      "6 rows, 8 cols, 16 nonzeros\n",
      "6 rows, 8 cols, 16 nonzeros\n",
      "Presolve : Reductions: rows 6(-0); columns 8(-0); elements 16(-0)\n",
      "Solving the presolved LP\n",
      "WARNING: Number of OMP threads available = 0 < 1 = Number of HiGHS threads to be used: Parallel performance will be less than anticipated\n",
      "Using EKK dual simplex solver - serial\n",
      "LP  has all |entries|=1; max column count = 2 (limit 24); average column count = 2 (limit 6): So is a candidate for LiDSE\n",
      "  Iteration        Objective     Infeasibilities num(sum)\n",
      "          0     0.0000000000e+00 Pr: 4(950) 0s\n",
      "          5     9.4500000000e+04 Pr: 0(0) 0s\n",
      "Solving the original LP from the solution after postsolve\n",
      "Model   status      : Optimal\n",
      "Simplex   iterations: 5\n",
      "Objective value     :  9.4500000000e+04\n",
      "HiGHS run time      :          0.00\n"
     ]
    },
    {
     "data": {
      "text/plain": [
       "2-dimensional DenseAxisArray{Float64,2,...} with index sets:\n",
       "    Dimension 1, [\"trenton\", \"newark\"]\n",
       "    Dimension 2, [\"newyork\", \"princeton\", \"philadelphia\", \"newbrunswick\"]\n",
       "And data, a 2×4 Array{Float64,2}:\n",
       "   0.0   25.0  275.0  50.0\n",
       " 325.0  275.0    0.0   0.0"
      ]
     },
     "execution_count": 36,
     "metadata": {},
     "output_type": "execute_result"
    }
   ],
   "source": [
    "distances = JuMP.Containers.DenseAxisArray(\n",
    "    [2.5 0.5 1.5 1.0;\n",
    "     0.5 1.5 3.5 5.0], #  change the location of New Brunswick to be further from Newark.\n",
    "    Symbol.(P),\n",
    "    Symbol.(M),\n",
    ")\n",
    "transport = Model(HiGHS.Optimizer);\n",
    "@variable(transport, X[P,M] >= 0)\n",
    "@constraint(transport, cSupply[p in P], \n",
    "    sum(X[p,m] for m in M) \n",
    "    <= plants.capacity[plants.plant.==p][1])\n",
    "@constraint(transport, cDemand[m in M], \n",
    "    sum(X[p,m] for p in P) \n",
    "    >= markets.demand[markets.market.==m][1])\n",
    "@expression(transport, eCost, \n",
    "    sum(freight_cost*distances[Symbol(p),Symbol(m)]*X[p,m] \n",
    "        for p in P, m in M)\n",
    "    )\n",
    "@objective(transport, Min, eCost)\n",
    "optimize!(transport)\n",
    "value.(X)"
   ]
  },
  {
   "cell_type": "markdown",
   "metadata": {},
   "source": [
    "In this case, the model shuffles production around so that the now much closer Trenton plant picks up the demand for New Brunswick."
   ]
  }
 ],
 "metadata": {
  "kernelspec": {
   "display_name": "Julia 1.5.3",
   "language": "julia",
   "name": "julia-1.5"
  },
  "language_info": {
   "file_extension": ".jl",
   "mimetype": "application/julia",
   "name": "julia",
   "version": "1.5.3"
  }
 },
 "nbformat": 4,
 "nbformat_minor": 4
}
